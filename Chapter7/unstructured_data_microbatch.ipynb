{
 "cells": [
  {
   "cell_type": "markdown",
   "metadata": {},
   "source": [
    "### Step 1. Loading the needed packages"
   ]
  },
  {
   "cell_type": "code",
   "execution_count": 17,
   "metadata": {},
   "outputs": [],
   "source": [
    "import pandas as pd\n",
    "import numpy as np\n",
    "from datetime import datetime\n",
    "from itertools import islice\n",
    "import sys"
   ]
  },
  {
   "cell_type": "markdown",
   "metadata": {},
   "source": [
    "### Step 2. Define functions"
   ]
  },
  {
   "cell_type": "code",
   "execution_count": 18,
   "metadata": {},
   "outputs": [],
   "source": [
    "# define generator function to read in files in chuncks\n",
    "def read_chunks(file_obj,chunk_size):\n",
    "    while True:\n",
    "        lines = list(islice(file_obj, chunk_size))\n",
    "        if lines: \n",
    "            yield lines\n",
    "        else:     \n",
    "            print('end of file')\n",
    "            break"
   ]
  },
  {
   "cell_type": "markdown",
   "metadata": {},
   "source": [
    "### Step 3. Reload the previously defined function"
   ]
  },
  {
   "cell_type": "code",
   "execution_count": 19,
   "metadata": {},
   "outputs": [],
   "source": [
    "# this function is the same as the previous one but we reload it here\n",
    "def generate_data_frame(txt):\n",
    "    session_time = []\n",
    "    event_name = []\n",
    "    event_attribute = []\n",
    "    dtfmt ='%m/%d/%Y %I:%M:%S %p'\n",
    "    for line in txt:\n",
    "        s1=line.split(']')[0].strip('[')\n",
    "        dt = datetime.strptime(s1, dtfmt)\n",
    "        session_time.append(dt)\n",
    "        s= line.split(']')[1].strip().split(':')\n",
    "        event_name.append(s[0])\n",
    "        if len(s) == 2:\n",
    "            event_attribute.append(s[1].lstrip())\n",
    "        else:\n",
    "            event_attribute.append(np.nan)\n",
    "    df = pd.DataFrame([session_time,event_name,event_attribute]).T\n",
    "    df.columns=['session_time','event_name', 'event_attribute'] \n",
    "    return df"
   ]
  },
  {
   "cell_type": "markdown",
   "metadata": {},
   "source": [
    "### Step 4. Open files and read data into a generator object"
   ]
  },
  {
   "cell_type": "code",
   "execution_count": 20,
   "metadata": {},
   "outputs": [],
   "source": [
    "# open the file\n",
    "f = open('../data/unstructured_example_log.txt','r')"
   ]
  },
  {
   "cell_type": "code",
   "execution_count": 21,
   "metadata": {},
   "outputs": [],
   "source": [
    "# read file into chunks of 4 lines and create a generator object \n",
    "chunk_generator = read_chunks(f,4)"
   ]
  },
  {
   "cell_type": "code",
   "execution_count": 22,
   "metadata": {},
   "outputs": [
    {
     "data": {
      "text/plain": [
       "128"
      ]
     },
     "execution_count": 22,
     "metadata": {},
     "output_type": "execute_result"
    }
   ],
   "source": [
    "# check the memory usage of the generator object in bytes\n",
    "sys.getsizeof(chunk_generator)"
   ]
  },
  {
   "cell_type": "code",
   "execution_count": 23,
   "metadata": {},
   "outputs": [
    {
     "data": {
      "text/plain": [
       "['[5/15/2013 2:17:26 PM] Session Start\\n',\n",
       " '[5/15/2013 2:17:26 PM] Leaving sequence: loadXML, moving forward.\\n',\n",
       " '[5/15/2013 2:17:30 PM] Player submitted name: Carl\\n',\n",
       " '[5/15/2013 2:17:30 PM] Leaving sequence: InputNameScreen, moving forward.\\n']"
      ]
     },
     "execution_count": 23,
     "metadata": {},
     "output_type": "execute_result"
    }
   ],
   "source": [
    "# get the first chunk using next()\n",
    "next(chunk_generator)"
   ]
  },
  {
   "cell_type": "code",
   "execution_count": 24,
   "metadata": {},
   "outputs": [],
   "source": [
    "# create a new generator function called df \n",
    "df = (generate_data_frame(txt) for txt in chunk_generator)"
   ]
  },
  {
   "cell_type": "code",
   "execution_count": 26,
   "metadata": {},
   "outputs": [
    {
     "data": {
      "text/plain": [
       "128"
      ]
     },
     "execution_count": 26,
     "metadata": {},
     "output_type": "execute_result"
    }
   ],
   "source": [
    "# check the memory usage of the generator object in bytes\n",
    "sys.getsizeof(df)"
   ]
  },
  {
   "cell_type": "code",
   "execution_count": 27,
   "metadata": {},
   "outputs": [
    {
     "data": {
      "text/html": [
       "<div>\n",
       "<style scoped>\n",
       "    .dataframe tbody tr th:only-of-type {\n",
       "        vertical-align: middle;\n",
       "    }\n",
       "\n",
       "    .dataframe tbody tr th {\n",
       "        vertical-align: top;\n",
       "    }\n",
       "\n",
       "    .dataframe thead th {\n",
       "        text-align: right;\n",
       "    }\n",
       "</style>\n",
       "<table border=\"1\" class=\"dataframe\">\n",
       "  <thead>\n",
       "    <tr style=\"text-align: right;\">\n",
       "      <th></th>\n",
       "      <th>session_time</th>\n",
       "      <th>event_name</th>\n",
       "      <th>event_attribute</th>\n",
       "    </tr>\n",
       "  </thead>\n",
       "  <tbody>\n",
       "    <tr>\n",
       "      <th>0</th>\n",
       "      <td>2013-05-15 14:17:31</td>\n",
       "      <td>Player submitted name</td>\n",
       "      <td>Carl</td>\n",
       "    </tr>\n",
       "    <tr>\n",
       "      <th>1</th>\n",
       "      <td>2013-05-15 14:17:31</td>\n",
       "      <td>Leaving sequence</td>\n",
       "      <td>startScreen, moving forward.</td>\n",
       "    </tr>\n",
       "    <tr>\n",
       "      <th>2</th>\n",
       "      <td>2013-05-15 14:17:50</td>\n",
       "      <td>Player submitted name</td>\n",
       "      <td>Carl</td>\n",
       "    </tr>\n",
       "    <tr>\n",
       "      <th>3</th>\n",
       "      <td>2013-05-15 14:17:50</td>\n",
       "      <td>Leaving sequence</td>\n",
       "      <td>slide2, moving forward.</td>\n",
       "    </tr>\n",
       "  </tbody>\n",
       "</table>\n",
       "</div>"
      ],
      "text/plain": [
       "         session_time             event_name               event_attribute\n",
       "0 2013-05-15 14:17:31  Player submitted name                          Carl\n",
       "1 2013-05-15 14:17:31       Leaving sequence  startScreen, moving forward.\n",
       "2 2013-05-15 14:17:50  Player submitted name                          Carl\n",
       "3 2013-05-15 14:17:50       Leaving sequence       slide2, moving forward."
      ]
     },
     "execution_count": 27,
     "metadata": {},
     "output_type": "execute_result"
    }
   ],
   "source": [
    "# get the first object in dfnext(df)\n",
    "next(df)"
   ]
  },
  {
   "cell_type": "code",
   "execution_count": 28,
   "metadata": {},
   "outputs": [],
   "source": [
    "f.close()"
   ]
  },
  {
   "cell_type": "code",
   "execution_count": null,
   "metadata": {},
   "outputs": [],
   "source": []
  }
 ],
 "metadata": {
  "kernelspec": {
   "display_name": "Python 3",
   "language": "python",
   "name": "python3"
  },
  "language_info": {
   "codemirror_mode": {
    "name": "ipython",
    "version": 3
   },
   "file_extension": ".py",
   "mimetype": "text/x-python",
   "name": "python",
   "nbconvert_exporter": "python",
   "pygments_lexer": "ipython3",
   "version": "3.7.4"
  }
 },
 "nbformat": 4,
 "nbformat_minor": 4
}
