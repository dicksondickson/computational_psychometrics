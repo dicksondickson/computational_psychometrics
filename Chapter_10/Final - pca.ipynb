{
 "cells": [
  {
   "cell_type": "code",
   "execution_count": 1,
   "metadata": {},
   "outputs": [
    {
     "name": "stdout",
     "output_type": "stream",
     "text": [
      "[0.91355698 0.05692013 0.01805982 0.00931031 0.00215277]\n"
     ]
    },
    {
     "data": {
      "text/html": [
       "<div>\n",
       "<style scoped>\n",
       "    .dataframe tbody tr th:only-of-type {\n",
       "        vertical-align: middle;\n",
       "    }\n",
       "\n",
       "    .dataframe tbody tr th {\n",
       "        vertical-align: top;\n",
       "    }\n",
       "\n",
       "    .dataframe thead th {\n",
       "        text-align: right;\n",
       "    }\n",
       "</style>\n",
       "<table border=\"1\" class=\"dataframe\">\n",
       "  <thead>\n",
       "    <tr style=\"text-align: right;\">\n",
       "      <th></th>\n",
       "      <th>FI</th>\n",
       "      <th>MU</th>\n",
       "      <th>EN</th>\n",
       "      <th>EV</th>\n",
       "      <th>S</th>\n",
       "    </tr>\n",
       "  </thead>\n",
       "  <tbody>\n",
       "    <tr>\n",
       "      <th>0</th>\n",
       "      <td>0.602496</td>\n",
       "      <td>0.325988</td>\n",
       "      <td>0.723320</td>\n",
       "      <td>0.047994</td>\n",
       "      <td>0.072356</td>\n",
       "    </tr>\n",
       "    <tr>\n",
       "      <th>1</th>\n",
       "      <td>0.784025</td>\n",
       "      <td>-0.391908</td>\n",
       "      <td>-0.478342</td>\n",
       "      <td>-0.034100</td>\n",
       "      <td>0.041694</td>\n",
       "    </tr>\n",
       "    <tr>\n",
       "      <th>2</th>\n",
       "      <td>0.110188</td>\n",
       "      <td>0.838756</td>\n",
       "      <td>-0.492802</td>\n",
       "      <td>0.048459</td>\n",
       "      <td>0.197850</td>\n",
       "    </tr>\n",
       "    <tr>\n",
       "      <th>3</th>\n",
       "      <td>-0.098870</td>\n",
       "      <td>-0.190382</td>\n",
       "      <td>0.056623</td>\n",
       "      <td>0.267136</td>\n",
       "      <td>0.937770</td>\n",
       "    </tr>\n",
       "    <tr>\n",
       "      <th>4</th>\n",
       "      <td>-0.019666</td>\n",
       "      <td>0.019567</td>\n",
       "      <td>0.044004</td>\n",
       "      <td>-0.960637</td>\n",
       "      <td>0.272892</td>\n",
       "    </tr>\n",
       "  </tbody>\n",
       "</table>\n",
       "</div>"
      ],
      "text/plain": [
       "         FI        MU        EN        EV         S\n",
       "0  0.602496  0.325988  0.723320  0.047994  0.072356\n",
       "1  0.784025 -0.391908 -0.478342 -0.034100  0.041694\n",
       "2  0.110188  0.838756 -0.492802  0.048459  0.197850\n",
       "3 -0.098870 -0.190382  0.056623  0.267136  0.937770\n",
       "4 -0.019666  0.019567  0.044004 -0.960637  0.272892"
      ]
     },
     "metadata": {},
     "output_type": "display_data"
    }
   ],
   "source": [
    "import pandas as pd\n",
    "from sklearn import decomposition\n",
    "from sklearn.decomposition import PCA\n",
    "\n",
    "cps = pd.read_csv('cps.csv', header=None)\n",
    "cps.columns = ['FI','MU','EN', 'EV', 'S']\n",
    "X = cps.iloc[:,:].values\n",
    "\n",
    "pca = decomposition.PCA()\n",
    "pca.fit_transform(X)\n",
    "\n",
    "print(pca.explained_variance_ratio_)\n",
    "display(pd.DataFrame(pca.components_, columns=cps.columns))"
   ]
  },
  {
   "cell_type": "code",
   "execution_count": null,
   "metadata": {},
   "outputs": [],
   "source": []
  }
 ],
 "metadata": {
  "kernelspec": {
   "display_name": "Python 3",
   "language": "python",
   "name": "python3"
  },
  "language_info": {
   "codemirror_mode": {
    "name": "ipython",
    "version": 3
   },
   "file_extension": ".py",
   "mimetype": "text/x-python",
   "name": "python",
   "nbconvert_exporter": "python",
   "pygments_lexer": "ipython3",
   "version": "3.8.5"
  }
 },
 "nbformat": 4,
 "nbformat_minor": 2
}
