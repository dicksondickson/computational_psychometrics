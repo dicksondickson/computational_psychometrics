{
 "cells": [
  {
   "cell_type": "markdown",
   "metadata": {},
   "source": [
    "# Load the needed libraries"
   ]
  },
  {
   "cell_type": "code",
   "execution_count": null,
   "metadata": {},
   "outputs": [],
   "source": [
    "import torch\n",
    "import torch.nn as nn\n",
    "import torchvision.models as models\n",
    "from torchvision import transforms\n",
    "from torch.autograd import Variable\n",
    "from PIL import Image\n",
    "import numpy as np"
   ]
  },
  {
   "cell_type": "markdown",
   "metadata": {},
   "source": [
    "# Load the vgg model"
   ]
  },
  {
   "cell_type": "code",
   "execution_count": null,
   "metadata": {},
   "outputs": [],
   "source": [
    "vgg19 = models.vgg19(pretrained=True)\n",
    "modules=list(vgg19.children())[:-1]\n",
    "vgg19 = nn.Sequential(*modules)\n",
    "\n",
    "for p in vgg19.parameters():\n",
    "    p.requires_grad = False"
   ]
  },
  {
   "cell_type": "markdown",
   "metadata": {},
   "source": [
    "# Preprocessing"
   ]
  },
  {
   "cell_type": "code",
   "execution_count": null,
   "metadata": {},
   "outputs": [],
   "source": [
    "#Define the normalization transform to normalize the image intensities \n",
    "normalize = transforms.Normalize(\n",
    "   mean=[0.485, 0.456, 0.406],\n",
    "   std=[0.229, 0.224, 0.225])\n",
    "\n",
    "#Define the preprocessing transform to perform the scaling of the images\n",
    "preprocess = transforms.Compose([\n",
    "   transforms.Scale((224,224)),\n",
    "   transforms.CenterCrop(224),\n",
    "   transforms.ToTensor(),\n",
    "   normalize])"
   ]
  },
  {
   "cell_type": "markdown",
   "metadata": {},
   "source": [
    "# Feature extracting and distance computation"
   ]
  },
  {
   "cell_type": "code",
   "execution_count": null,
   "metadata": {},
   "outputs": [],
   "source": [
    "# import and extract a feature from image1\n",
    "img_pil_first = Image.open(\"first.png\")\n",
    "img_tensor_first = preprocess(img_pil_first)\n",
    "img_tensor_first.unsqueeze_(0)\n",
    "img_var_first = Variable(img_tensor_first) # assign it to a variable\n",
    "features_var_first = vgg19(img_var_first) # get the output from the last hidden layer of the pretrained model\n",
    "features_first = features_var_first.data # get the tensor out of the variable\n",
    "feat_first = torch.squeeze(features_first)\n",
    "feat_first = feat_first.numpy()\n",
    "#print(feat_first)\n",
    "\n",
    "# import and extract a feature from image2\n",
    "img_pil_first = Image.open(\"second.png\")\n",
    "img_tensor_last = preprocess(img_pil_last)\n",
    "img_tensor_last.unsqueeze_(0)\n",
    "img_var_last = Variable(img_tensor_last) \n",
    "features_var_last = vgg19(img_var_last) \n",
    "features_last = features_var_last.data # get the tensor out of the variable\n",
    "feat_last = torch.squeeze(features_last) \n",
    "feat_last = feat_last.numpy()\n",
    "print(\"the distance between two images\")\n",
    "print(np.sqrt(np.sum(np.power(feat_first - feat_last, 2))))"
   ]
  }
 ],
 "metadata": {
  "kernelspec": {
   "display_name": "Python 3",
   "language": "python",
   "name": "python3"
  },
  "language_info": {
   "codemirror_mode": {
    "name": "ipython",
    "version": 3
   },
   "file_extension": ".py",
   "mimetype": "text/x-python",
   "name": "python",
   "nbconvert_exporter": "python",
   "pygments_lexer": "ipython3",
   "version": "3.8.8"
  }
 },
 "nbformat": 4,
 "nbformat_minor": 4
}
