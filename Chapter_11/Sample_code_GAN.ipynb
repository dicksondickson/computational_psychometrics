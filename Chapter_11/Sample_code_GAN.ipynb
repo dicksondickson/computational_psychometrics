{
 "cells": [
  {
   "cell_type": "markdown",
   "metadata": {},
   "source": [
    "# The sample code of the discriminator and the generator of a GAN model"
   ]
  },
  {
   "cell_type": "code",
   "execution_count": null,
   "metadata": {},
   "outputs": [],
   "source": [
    "import tensorflow as tf\n",
    "import numpy as np\n",
    "\n",
    "def discriminator(self, image, y=None, reuse=False):\n",
    "    with tf.variable_scope(\"discriminator\") as scope:\n",
    "        if reuse:\n",
    "            tf.get_variable_scope().reuse_variables()\n",
    "        else:\n",
    "            assert tf.get_variable_scope().reuse == False\n",
    "\n",
    "        h0 = lrelu(conv2d(image, self.df_dim, name='d_h0_conv'))\n",
    "        h1 = lrelu(self.d_bn1(conv2d(h0, self.df_dim*2, name='d_h1_conv')))\n",
    "        h2 = lrelu(self.d_bn2(conv2d(h1, self.df_dim*4, name='d_h2_conv')))\n",
    "        h3 = lrelu(self.d_bn3(conv2d(h2, self.df_dim*8, d_h=1, d_w=1, name='d_h3_conv')))\n",
    "        h4 = linear(tf.reshape(h3, [self.batch_size, -1]), 1, 'd_h3_lin')\n",
    "        return tf.nn.sigmoid(h4), h4, h3, h2, h1, h0\n",
    "\n",
    "def generator(self, image, y=None):\n",
    "    with tf.variable_scope(\"generator\") as scope:\n",
    "        s = self.output_size\n",
    "        s2, s4, s8, s16, s32, s64, s128 = int(s/2), int(s/4), int(s/8), int(s/16), int(s/32), int(s/64), int(s/128)\n",
    "\n",
    "        e1 = conv2d(image, self.gf_dim, name='g_e1_conv')\n",
    "        e2 = self.g_bn_e2(conv2d(lrelu(e1), self.gf_dim*2, name='g_e2_conv'))\n",
    "        e3 = self.g_bn_e3(conv2d(lrelu(e2), self.gf_dim*4, name='g_e3_conv'))\n",
    "        e4 = self.g_bn_e4(conv2d(lrelu(e3), self.gf_dim*8, name='g_e4_conv'))\n",
    "        e5 = self.g_bn_e5(conv2d(lrelu(e4), self.gf_dim*8, name='g_e5_conv'))\n",
    "        e6 = self.g_bn_e6(conv2d(lrelu(e5), self.gf_dim*8, name='g_e6_conv'))\n",
    "        e7 = self.g_bn_e7(conv2d(lrelu(e6), self.gf_dim*8, name='g_e7_conv'))\n",
    "        e8 = self.g_bn_e8(conv2d(lrelu(e7), self.gf_dim*8, name='g_e8_conv'))\n",
    "\n",
    "        self.d1, self.d1_w, self.d1_b = deconv2d(tf.nn.relu(e8),\n",
    "            [self.batch_size, s128, s128, self.gf_dim*8], name='g_d1', with_w=True)\n",
    "        d1 = tf.nn.dropout(self.g_bn_d1(self.d1), 0.5)\n",
    "        d1 = tf.concat_v2([d1, e7], 3)\n",
    "        self.d2, self.d2_w, self.d2_b = deconv2d(tf.nn.relu(d1),\n",
    "            [self.batch_size, s64, s64, self.gf_dim*8], name='g_d2', with_w=True)\n",
    "        d2 = tf.nn.dropout(self.g_bn_d2(self.d2), 0.5)\n",
    "        d2 = tf.concat_v2([d2, e6], 3)\n",
    "        self.d3, self.d3_w, self.d3_b = deconv2d(tf.nn.relu(d2),\n",
    "            [self.batch_size, s32, s32, self.gf_dim*8], name='g_d3', with_w=True)\n",
    "        d3 = tf.nn.dropout(self.g_bn_d3(self.d3), 0.5)\n",
    "        d3 = tf.concat_v2([d3, e5], 3)\n",
    "        self.d4, self.d4_w, self.d4_b = deconv2d(tf.nn.relu(d3),\n",
    "            [self.batch_size, s16, s16, self.gf_dim*8], name='g_d4', with_w=True)\n",
    "        d4 = self.g_bn_d4(self.d4)\n",
    "        d4 = tf.concat_v2([d4, e4], 3)\n",
    "        self.d5, self.d5_w, self.d5_b = deconv2d(tf.nn.relu(d4),\n",
    "            [self.batch_size, s8, s8, self.gf_dim*4], name='g_d5', with_w=True)\n",
    "        d5 = self.g_bn_d5(self.d5)\n",
    "        d5 = tf.concat_v2([d5, e3], 3)\n",
    "        self.d6, self.d6_w, self.d6_b = deconv2d(tf.nn.relu(d5),\n",
    "            [self.batch_size, s4, s4, self.gf_dim*2], name='g_d6', with_w=True)\n",
    "        d6 = self.g_bn_d6(self.d6)\n",
    "        d6 = tf.concat_v2([d6, e2], 3)\n",
    "        self.d7, self.d7_w, self.d7_b = deconv2d(tf.nn.relu(d6),\n",
    "            [self.batch_size, s2, s2, self.gf_dim], name='g_d7', with_w=True)\n",
    "        d7 = self.g_bn_d7(self.d7)\n",
    "        d7 = tf.concat_v2([d7, e1], 3)\n",
    "        self.d8, self.d8_w, self.d8_b = deconv2d(tf.nn.relu(d7),\n",
    "            [self.batch_size, s, s, self.output_c_dim], name='g_d8', with_w=True)\n",
    "        return tf.nn.tanh(self.d8) \n"
   ]
  }
 ],
 "metadata": {
  "kernelspec": {
   "display_name": "key",
   "language": "python",
   "name": "key"
  },
  "language_info": {
   "codemirror_mode": {
    "name": "ipython",
    "version": 3
   },
   "file_extension": ".py",
   "mimetype": "text/x-python",
   "name": "python",
   "nbconvert_exporter": "python",
   "pygments_lexer": "ipython3",
   "version": "3.8.6"
  }
 },
 "nbformat": 4,
 "nbformat_minor": 4
}
