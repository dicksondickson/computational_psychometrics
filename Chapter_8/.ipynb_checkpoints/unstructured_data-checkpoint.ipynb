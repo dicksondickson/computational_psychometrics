{
 "cells": [
  {
   "cell_type": "markdown",
   "metadata": {},
   "source": [
    "## <center> Parsing and restructuring unstructured process data </center>"
   ]
  },
  {
   "cell_type": "markdown",
   "metadata": {},
   "source": [
    "### Step 1. Loading the needed packages"
   ]
  },
  {
   "cell_type": "code",
   "execution_count": 1,
   "metadata": {},
   "outputs": [],
   "source": [
    "import pandas as pd\n",
    "import numpy as np\n",
    "from datetime import datetime"
   ]
  },
  {
   "cell_type": "markdown",
   "metadata": {},
   "source": [
    "### Step 2. Open the unstructured data file and read it into a python list"
   ]
  },
  {
   "cell_type": "code",
   "execution_count": 2,
   "metadata": {},
   "outputs": [],
   "source": [
    "with open('unstructured_example_log.txt') as f:\n",
    "    txt = f.readlines()"
   ]
  },
  {
   "cell_type": "code",
   "execution_count": 3,
   "metadata": {},
   "outputs": [
    {
     "data": {
      "text/plain": [
       "['[5/15/2013 2:17:26 PM] Session Start\\n',\n",
       " '[5/15/2013 2:17:26 PM] Leaving sequence: loadXML, moving forward.\\n',\n",
       " '[5/15/2013 2:17:30 PM] Player submitted name: Carl\\n',\n",
       " '[5/15/2013 2:17:30 PM] Leaving sequence: InputNameScreen, moving forward.\\n',\n",
       " '[5/15/2013 2:17:31 PM] Player submitted name: Carl\\n',\n",
       " '[5/15/2013 2:17:31 PM] Leaving sequence: startScreen, moving forward.\\n',\n",
       " '[5/15/2013 2:17:50 PM] Player submitted name: Carl\\n',\n",
       " '[5/15/2013 2:17:50 PM] Leaving sequence: slide2, moving forward.\\n',\n",
       " '[5/15/2013 2:17:55 PM] Player submitted name: Carl\\n',\n",
       " '[5/15/2013 2:17:55 PM] Leaving sequence: slide2b, moving forward.\\n',\n",
       " '[5/15/2013 2:18:34 PM] Player submitted name: Carl\\n',\n",
       " '[5/15/2013 2:18:34 PM] Leaving sequence: slide2c, moving forward.\\n',\n",
       " '[5/15/2013 2:20:09 PM] Player submitted name: Carl\\n',\n",
       " '[5/15/2013 2:20:09 PM] Leaving sequence: slide3, moving forward.\\n',\n",
       " '[5/15/2013 2:20:13 PM] Player submitted name: Carl\\n',\n",
       " '[5/15/2013 2:20:13 PM] Leaving sequence: slide4, moving forward.\\n']"
      ]
     },
     "execution_count": 3,
     "metadata": {},
     "output_type": "execute_result"
    }
   ],
   "source": [
    "txt"
   ]
  },
  {
   "cell_type": "code",
   "execution_count": 4,
   "metadata": {},
   "outputs": [
    {
     "data": {
      "text/plain": [
       "'['"
      ]
     },
     "execution_count": 4,
     "metadata": {},
     "output_type": "execute_result"
    }
   ],
   "source": [
    "txt[0][0]"
   ]
  },
  {
   "cell_type": "markdown",
   "metadata": {},
   "source": [
    "### Step 3. Clean each line to strip off the \\n"
   ]
  },
  {
   "cell_type": "code",
   "execution_count": 5,
   "metadata": {},
   "outputs": [],
   "source": [
    "txt = [t.strip() for t in txt]"
   ]
  },
  {
   "cell_type": "code",
   "execution_count": 6,
   "metadata": {},
   "outputs": [
    {
     "data": {
      "text/plain": [
       "['[5/15/2013 2:17:26 PM] Session Start',\n",
       " '[5/15/2013 2:17:26 PM] Leaving sequence: loadXML, moving forward.',\n",
       " '[5/15/2013 2:17:30 PM] Player submitted name: Carl',\n",
       " '[5/15/2013 2:17:30 PM] Leaving sequence: InputNameScreen, moving forward.',\n",
       " '[5/15/2013 2:17:31 PM] Player submitted name: Carl',\n",
       " '[5/15/2013 2:17:31 PM] Leaving sequence: startScreen, moving forward.',\n",
       " '[5/15/2013 2:17:50 PM] Player submitted name: Carl',\n",
       " '[5/15/2013 2:17:50 PM] Leaving sequence: slide2, moving forward.',\n",
       " '[5/15/2013 2:17:55 PM] Player submitted name: Carl',\n",
       " '[5/15/2013 2:17:55 PM] Leaving sequence: slide2b, moving forward.',\n",
       " '[5/15/2013 2:18:34 PM] Player submitted name: Carl',\n",
       " '[5/15/2013 2:18:34 PM] Leaving sequence: slide2c, moving forward.',\n",
       " '[5/15/2013 2:20:09 PM] Player submitted name: Carl',\n",
       " '[5/15/2013 2:20:09 PM] Leaving sequence: slide3, moving forward.',\n",
       " '[5/15/2013 2:20:13 PM] Player submitted name: Carl',\n",
       " '[5/15/2013 2:20:13 PM] Leaving sequence: slide4, moving forward.']"
      ]
     },
     "execution_count": 6,
     "metadata": {},
     "output_type": "execute_result"
    }
   ],
   "source": [
    "txt"
   ]
  },
  {
   "cell_type": "markdown",
   "metadata": {},
   "source": [
    "### Step 4. Sepate the time stamp and convert it to standard Python datetime object"
   ]
  },
  {
   "cell_type": "code",
   "execution_count": 7,
   "metadata": {},
   "outputs": [],
   "source": [
    "s0 = txt[0].split(']')[0].strip('[')\n",
    "s10 = txt[10].split(']')[0].strip('[')"
   ]
  },
  {
   "cell_type": "code",
   "execution_count": 8,
   "metadata": {},
   "outputs": [
    {
     "data": {
      "text/plain": [
       "'5/15/2013 2:17:26 PM'"
      ]
     },
     "execution_count": 8,
     "metadata": {},
     "output_type": "execute_result"
    }
   ],
   "source": [
    "s0"
   ]
  },
  {
   "cell_type": "code",
   "execution_count": 9,
   "metadata": {},
   "outputs": [
    {
     "data": {
      "text/plain": [
       "'5/15/2013 2:18:34 PM'"
      ]
     },
     "execution_count": 9,
     "metadata": {},
     "output_type": "execute_result"
    }
   ],
   "source": [
    "s10"
   ]
  },
  {
   "cell_type": "code",
   "execution_count": 10,
   "metadata": {},
   "outputs": [],
   "source": [
    "dtfmt ='%m/%d/%Y %I:%M:%S %p'   # %H -> 24 hours, %I-> 12 hours\n",
    "t0 = datetime.strptime(s0, dtfmt)\n",
    "t10 = datetime.strptime(s10, dtfmt)"
   ]
  },
  {
   "cell_type": "code",
   "execution_count": 11,
   "metadata": {},
   "outputs": [
    {
     "data": {
      "text/plain": [
       "datetime.datetime(2013, 5, 15, 14, 17, 26)"
      ]
     },
     "execution_count": 11,
     "metadata": {},
     "output_type": "execute_result"
    }
   ],
   "source": [
    "t0"
   ]
  },
  {
   "cell_type": "code",
   "execution_count": 12,
   "metadata": {},
   "outputs": [
    {
     "data": {
      "text/plain": [
       "datetime.datetime(2013, 5, 15, 14, 18, 34)"
      ]
     },
     "execution_count": 12,
     "metadata": {},
     "output_type": "execute_result"
    }
   ],
   "source": [
    "t10"
   ]
  },
  {
   "cell_type": "code",
   "execution_count": 13,
   "metadata": {},
   "outputs": [
    {
     "data": {
      "text/plain": [
       "68"
      ]
     },
     "execution_count": 13,
     "metadata": {},
     "output_type": "execute_result"
    }
   ],
   "source": [
    "(t10-t0).seconds"
   ]
  },
  {
   "cell_type": "markdown",
   "metadata": {},
   "source": [
    "### Step 5. Restructure the information into a data frame"
   ]
  },
  {
   "cell_type": "code",
   "execution_count": 14,
   "metadata": {},
   "outputs": [],
   "source": [
    "# define a function to combine all the above steps and turn the results into a pandas Data Frame\n",
    "\n",
    "def generate_data_frame(txt):\n",
    "    session_time = []\n",
    "    event_name = []\n",
    "    event_attribute = []\n",
    "    dtfmt ='%m/%d/%Y %I:%M:%S %p'\n",
    "    for line in txt:\n",
    "        s1=line.split(']')[0].strip('[')\n",
    "        dt = datetime.strptime(s1, dtfmt)\n",
    "        session_time.append(dt)\n",
    "        s= line.split(']')[1].strip().split(':')\n",
    "        event_name.append(s[0])\n",
    "        if len(s) == 2:\n",
    "            event_attribute.append(s[1].lstrip())\n",
    "        else:\n",
    "            event_attribute.append(np.nan)\n",
    "    df = pd.DataFrame([session_time,event_name,event_attribute]).T\n",
    "    df.columns=['session_time','event_name', 'event_attribute'] \n",
    "    return df"
   ]
  },
  {
   "cell_type": "code",
   "execution_count": 15,
   "metadata": {},
   "outputs": [
    {
     "data": {
      "text/html": [
       "<div>\n",
       "<style scoped>\n",
       "    .dataframe tbody tr th:only-of-type {\n",
       "        vertical-align: middle;\n",
       "    }\n",
       "\n",
       "    .dataframe tbody tr th {\n",
       "        vertical-align: top;\n",
       "    }\n",
       "\n",
       "    .dataframe thead th {\n",
       "        text-align: right;\n",
       "    }\n",
       "</style>\n",
       "<table border=\"1\" class=\"dataframe\">\n",
       "  <thead>\n",
       "    <tr style=\"text-align: right;\">\n",
       "      <th></th>\n",
       "      <th>session_time</th>\n",
       "      <th>event_name</th>\n",
       "      <th>event_attribute</th>\n",
       "    </tr>\n",
       "  </thead>\n",
       "  <tbody>\n",
       "    <tr>\n",
       "      <td>0</td>\n",
       "      <td>2013-05-15 14:17:26</td>\n",
       "      <td>Session Start</td>\n",
       "      <td>NaN</td>\n",
       "    </tr>\n",
       "    <tr>\n",
       "      <td>1</td>\n",
       "      <td>2013-05-15 14:17:26</td>\n",
       "      <td>Leaving sequence</td>\n",
       "      <td>loadXML, moving forward.</td>\n",
       "    </tr>\n",
       "    <tr>\n",
       "      <td>2</td>\n",
       "      <td>2013-05-15 14:17:30</td>\n",
       "      <td>Player submitted name</td>\n",
       "      <td>Carl</td>\n",
       "    </tr>\n",
       "    <tr>\n",
       "      <td>3</td>\n",
       "      <td>2013-05-15 14:17:30</td>\n",
       "      <td>Leaving sequence</td>\n",
       "      <td>InputNameScreen, moving forward.</td>\n",
       "    </tr>\n",
       "    <tr>\n",
       "      <td>4</td>\n",
       "      <td>2013-05-15 14:17:31</td>\n",
       "      <td>Player submitted name</td>\n",
       "      <td>Carl</td>\n",
       "    </tr>\n",
       "    <tr>\n",
       "      <td>5</td>\n",
       "      <td>2013-05-15 14:17:31</td>\n",
       "      <td>Leaving sequence</td>\n",
       "      <td>startScreen, moving forward.</td>\n",
       "    </tr>\n",
       "    <tr>\n",
       "      <td>6</td>\n",
       "      <td>2013-05-15 14:17:50</td>\n",
       "      <td>Player submitted name</td>\n",
       "      <td>Carl</td>\n",
       "    </tr>\n",
       "    <tr>\n",
       "      <td>7</td>\n",
       "      <td>2013-05-15 14:17:50</td>\n",
       "      <td>Leaving sequence</td>\n",
       "      <td>slide2, moving forward.</td>\n",
       "    </tr>\n",
       "    <tr>\n",
       "      <td>8</td>\n",
       "      <td>2013-05-15 14:17:55</td>\n",
       "      <td>Player submitted name</td>\n",
       "      <td>Carl</td>\n",
       "    </tr>\n",
       "    <tr>\n",
       "      <td>9</td>\n",
       "      <td>2013-05-15 14:17:55</td>\n",
       "      <td>Leaving sequence</td>\n",
       "      <td>slide2b, moving forward.</td>\n",
       "    </tr>\n",
       "    <tr>\n",
       "      <td>10</td>\n",
       "      <td>2013-05-15 14:18:34</td>\n",
       "      <td>Player submitted name</td>\n",
       "      <td>Carl</td>\n",
       "    </tr>\n",
       "    <tr>\n",
       "      <td>11</td>\n",
       "      <td>2013-05-15 14:18:34</td>\n",
       "      <td>Leaving sequence</td>\n",
       "      <td>slide2c, moving forward.</td>\n",
       "    </tr>\n",
       "    <tr>\n",
       "      <td>12</td>\n",
       "      <td>2013-05-15 14:20:09</td>\n",
       "      <td>Player submitted name</td>\n",
       "      <td>Carl</td>\n",
       "    </tr>\n",
       "    <tr>\n",
       "      <td>13</td>\n",
       "      <td>2013-05-15 14:20:09</td>\n",
       "      <td>Leaving sequence</td>\n",
       "      <td>slide3, moving forward.</td>\n",
       "    </tr>\n",
       "    <tr>\n",
       "      <td>14</td>\n",
       "      <td>2013-05-15 14:20:13</td>\n",
       "      <td>Player submitted name</td>\n",
       "      <td>Carl</td>\n",
       "    </tr>\n",
       "    <tr>\n",
       "      <td>15</td>\n",
       "      <td>2013-05-15 14:20:13</td>\n",
       "      <td>Leaving sequence</td>\n",
       "      <td>slide4, moving forward.</td>\n",
       "    </tr>\n",
       "  </tbody>\n",
       "</table>\n",
       "</div>"
      ],
      "text/plain": [
       "          session_time             event_name  \\\n",
       "0  2013-05-15 14:17:26          Session Start   \n",
       "1  2013-05-15 14:17:26       Leaving sequence   \n",
       "2  2013-05-15 14:17:30  Player submitted name   \n",
       "3  2013-05-15 14:17:30       Leaving sequence   \n",
       "4  2013-05-15 14:17:31  Player submitted name   \n",
       "5  2013-05-15 14:17:31       Leaving sequence   \n",
       "6  2013-05-15 14:17:50  Player submitted name   \n",
       "7  2013-05-15 14:17:50       Leaving sequence   \n",
       "8  2013-05-15 14:17:55  Player submitted name   \n",
       "9  2013-05-15 14:17:55       Leaving sequence   \n",
       "10 2013-05-15 14:18:34  Player submitted name   \n",
       "11 2013-05-15 14:18:34       Leaving sequence   \n",
       "12 2013-05-15 14:20:09  Player submitted name   \n",
       "13 2013-05-15 14:20:09       Leaving sequence   \n",
       "14 2013-05-15 14:20:13  Player submitted name   \n",
       "15 2013-05-15 14:20:13       Leaving sequence   \n",
       "\n",
       "                     event_attribute  \n",
       "0                                NaN  \n",
       "1           loadXML, moving forward.  \n",
       "2                               Carl  \n",
       "3   InputNameScreen, moving forward.  \n",
       "4                               Carl  \n",
       "5       startScreen, moving forward.  \n",
       "6                               Carl  \n",
       "7            slide2, moving forward.  \n",
       "8                               Carl  \n",
       "9           slide2b, moving forward.  \n",
       "10                              Carl  \n",
       "11          slide2c, moving forward.  \n",
       "12                              Carl  \n",
       "13           slide3, moving forward.  \n",
       "14                              Carl  \n",
       "15           slide4, moving forward.  "
      ]
     },
     "execution_count": 15,
     "metadata": {},
     "output_type": "execute_result"
    }
   ],
   "source": [
    "generate_data_frame(txt)"
   ]
  },
  {
   "cell_type": "code",
   "execution_count": null,
   "metadata": {},
   "outputs": [],
   "source": []
  }
 ],
 "metadata": {
  "kernelspec": {
   "display_name": "Python 3",
   "language": "python",
   "name": "python3"
  },
  "language_info": {
   "codemirror_mode": {
    "name": "ipython",
    "version": 3
   },
   "file_extension": ".py",
   "mimetype": "text/x-python",
   "name": "python",
   "nbconvert_exporter": "python",
   "pygments_lexer": "ipython3",
   "version": "3.7.4"
  }
 },
 "nbformat": 4,
 "nbformat_minor": 4
}
