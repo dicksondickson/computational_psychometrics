{
 "cells": [
  {
   "cell_type": "markdown",
   "metadata": {},
   "source": [
    "# Parsing Structured JSON and XML data"
   ]
  },
  {
   "cell_type": "markdown",
   "metadata": {},
   "source": [
    "## JSON format"
   ]
  },
  {
   "cell_type": "markdown",
   "metadata": {},
   "source": [
    "### Step 1. Loading the needed packages"
   ]
  },
  {
   "cell_type": "code",
   "execution_count": 1,
   "metadata": {},
   "outputs": [],
   "source": [
    "import pandas as pd\n",
    "import json\n",
    "from datetime import datetime"
   ]
  },
  {
   "cell_type": "markdown",
   "metadata": {},
   "source": [
    "### Step 2. Open the structured data file and read it into a Python dictionary"
   ]
  },
  {
   "cell_type": "code",
   "execution_count": 2,
   "metadata": {},
   "outputs": [],
   "source": [
    "with open('structured_example_log.json') as f:\n",
    "    txt = json.load(f)"
   ]
  },
  {
   "cell_type": "code",
   "execution_count": 3,
   "metadata": {},
   "outputs": [
    {
     "data": {
      "text/plain": [
       "{'data': [{'session_time': '2013-05-15 14:17:26',\n",
       "   'event_name': 'Session Start',\n",
       "   'event_attribute': 'NaN'},\n",
       "  {'session_time': '2013-05-15 14:17:26',\n",
       "   'event_name': 'Leaving sequence',\n",
       "   'event_attribute': 'loadXML, moving forward.'},\n",
       "  {'session_time': '2013-05-15 14:17:30',\n",
       "   'event_name': 'Player submitted name',\n",
       "   'event_attribute': 'Carl'},\n",
       "  {'session_time': '2013-05-15 14:17:30',\n",
       "   'event_name': 'Leaving sequence',\n",
       "   'event_attribute': 'InputNameScreen, moving forward.'},\n",
       "  {'session_time': '2013-05-15 14:17:31',\n",
       "   'event_name': 'Player submitted name',\n",
       "   'event_attribute': 'Carl'},\n",
       "  {'session_time': '2013-05-15 14:17:31',\n",
       "   'event_name': 'Leaving sequence',\n",
       "   'event_attribute': 'startScreen, moving forward.'},\n",
       "  {'session_time': '2013-05-15 14:17:50',\n",
       "   'event_name': 'Player submitted name',\n",
       "   'event_attribute': 'Carl'},\n",
       "  {'session_time': '2013-05-15 14:17:50',\n",
       "   'event_name': 'Leaving sequence',\n",
       "   'event_attribute': 'slide2, moving forward.'},\n",
       "  {'session_time': '2013-05-15 14:17:55',\n",
       "   'event_name': 'Player submitted name',\n",
       "   'event_attribute': 'Carl'},\n",
       "  {'session_time': '2013-05-15 14:17:55',\n",
       "   'event_name': 'Leaving sequence',\n",
       "   'event_attribute': 'slide2b, moving forward.'},\n",
       "  {'session_time': '2013-05-15 14:18:34',\n",
       "   'event_name': 'Player submitted name',\n",
       "   'event_attribute': 'Carl'},\n",
       "  {'session_time': '2013-05-15 14:18:34',\n",
       "   'event_name': 'Leaving sequence',\n",
       "   'event_attribute': 'slide2c, moving forward.'},\n",
       "  {'session_time': '2013-05-15 14:20:09',\n",
       "   'event_name': 'Player submitted name',\n",
       "   'event_attribute': 'Carl'},\n",
       "  {'session_time': '2013-05-15 14:20:09',\n",
       "   'event_name': 'Leaving sequence',\n",
       "   'event_attribute': 'slide3, moving forward.'},\n",
       "  {'session_time': '2013-05-15 14:20:13',\n",
       "   'event_name': 'Player submitted name',\n",
       "   'event_attribute': 'Carl'},\n",
       "  {'session_time': '2013-05-15 14:20:13',\n",
       "   'event_name': 'Leaving sequence',\n",
       "   'event_attribute': 'slide4, moving forward.'}]}"
      ]
     },
     "execution_count": 3,
     "metadata": {},
     "output_type": "execute_result"
    }
   ],
   "source": [
    "txt"
   ]
  },
  {
   "cell_type": "markdown",
   "metadata": {},
   "source": [
    "### Step 3. Convert a list of dictionaries to data frame"
   ]
  },
  {
   "cell_type": "code",
   "execution_count": 4,
   "metadata": {},
   "outputs": [
    {
     "data": {
      "text/html": [
       "<div>\n",
       "<style scoped>\n",
       "    .dataframe tbody tr th:only-of-type {\n",
       "        vertical-align: middle;\n",
       "    }\n",
       "\n",
       "    .dataframe tbody tr th {\n",
       "        vertical-align: top;\n",
       "    }\n",
       "\n",
       "    .dataframe thead th {\n",
       "        text-align: right;\n",
       "    }\n",
       "</style>\n",
       "<table border=\"1\" class=\"dataframe\">\n",
       "  <thead>\n",
       "    <tr style=\"text-align: right;\">\n",
       "      <th></th>\n",
       "      <th>session_time</th>\n",
       "      <th>event_name</th>\n",
       "      <th>event_attribute</th>\n",
       "    </tr>\n",
       "  </thead>\n",
       "  <tbody>\n",
       "    <tr>\n",
       "      <th>0</th>\n",
       "      <td>2013-05-15 14:17:26</td>\n",
       "      <td>Session Start</td>\n",
       "      <td>NaN</td>\n",
       "    </tr>\n",
       "    <tr>\n",
       "      <th>1</th>\n",
       "      <td>2013-05-15 14:17:26</td>\n",
       "      <td>Leaving sequence</td>\n",
       "      <td>loadXML, moving forward.</td>\n",
       "    </tr>\n",
       "    <tr>\n",
       "      <th>2</th>\n",
       "      <td>2013-05-15 14:17:30</td>\n",
       "      <td>Player submitted name</td>\n",
       "      <td>Carl</td>\n",
       "    </tr>\n",
       "    <tr>\n",
       "      <th>3</th>\n",
       "      <td>2013-05-15 14:17:30</td>\n",
       "      <td>Leaving sequence</td>\n",
       "      <td>InputNameScreen, moving forward.</td>\n",
       "    </tr>\n",
       "    <tr>\n",
       "      <th>4</th>\n",
       "      <td>2013-05-15 14:17:31</td>\n",
       "      <td>Player submitted name</td>\n",
       "      <td>Carl</td>\n",
       "    </tr>\n",
       "    <tr>\n",
       "      <th>5</th>\n",
       "      <td>2013-05-15 14:17:31</td>\n",
       "      <td>Leaving sequence</td>\n",
       "      <td>startScreen, moving forward.</td>\n",
       "    </tr>\n",
       "    <tr>\n",
       "      <th>6</th>\n",
       "      <td>2013-05-15 14:17:50</td>\n",
       "      <td>Player submitted name</td>\n",
       "      <td>Carl</td>\n",
       "    </tr>\n",
       "    <tr>\n",
       "      <th>7</th>\n",
       "      <td>2013-05-15 14:17:50</td>\n",
       "      <td>Leaving sequence</td>\n",
       "      <td>slide2, moving forward.</td>\n",
       "    </tr>\n",
       "    <tr>\n",
       "      <th>8</th>\n",
       "      <td>2013-05-15 14:17:55</td>\n",
       "      <td>Player submitted name</td>\n",
       "      <td>Carl</td>\n",
       "    </tr>\n",
       "    <tr>\n",
       "      <th>9</th>\n",
       "      <td>2013-05-15 14:17:55</td>\n",
       "      <td>Leaving sequence</td>\n",
       "      <td>slide2b, moving forward.</td>\n",
       "    </tr>\n",
       "    <tr>\n",
       "      <th>10</th>\n",
       "      <td>2013-05-15 14:18:34</td>\n",
       "      <td>Player submitted name</td>\n",
       "      <td>Carl</td>\n",
       "    </tr>\n",
       "    <tr>\n",
       "      <th>11</th>\n",
       "      <td>2013-05-15 14:18:34</td>\n",
       "      <td>Leaving sequence</td>\n",
       "      <td>slide2c, moving forward.</td>\n",
       "    </tr>\n",
       "    <tr>\n",
       "      <th>12</th>\n",
       "      <td>2013-05-15 14:20:09</td>\n",
       "      <td>Player submitted name</td>\n",
       "      <td>Carl</td>\n",
       "    </tr>\n",
       "    <tr>\n",
       "      <th>13</th>\n",
       "      <td>2013-05-15 14:20:09</td>\n",
       "      <td>Leaving sequence</td>\n",
       "      <td>slide3, moving forward.</td>\n",
       "    </tr>\n",
       "    <tr>\n",
       "      <th>14</th>\n",
       "      <td>2013-05-15 14:20:13</td>\n",
       "      <td>Player submitted name</td>\n",
       "      <td>Carl</td>\n",
       "    </tr>\n",
       "    <tr>\n",
       "      <th>15</th>\n",
       "      <td>2013-05-15 14:20:13</td>\n",
       "      <td>Leaving sequence</td>\n",
       "      <td>slide4, moving forward.</td>\n",
       "    </tr>\n",
       "  </tbody>\n",
       "</table>\n",
       "</div>"
      ],
      "text/plain": [
       "           session_time             event_name  \\\n",
       "0   2013-05-15 14:17:26          Session Start   \n",
       "1   2013-05-15 14:17:26       Leaving sequence   \n",
       "2   2013-05-15 14:17:30  Player submitted name   \n",
       "3   2013-05-15 14:17:30       Leaving sequence   \n",
       "4   2013-05-15 14:17:31  Player submitted name   \n",
       "5   2013-05-15 14:17:31       Leaving sequence   \n",
       "6   2013-05-15 14:17:50  Player submitted name   \n",
       "7   2013-05-15 14:17:50       Leaving sequence   \n",
       "8   2013-05-15 14:17:55  Player submitted name   \n",
       "9   2013-05-15 14:17:55       Leaving sequence   \n",
       "10  2013-05-15 14:18:34  Player submitted name   \n",
       "11  2013-05-15 14:18:34       Leaving sequence   \n",
       "12  2013-05-15 14:20:09  Player submitted name   \n",
       "13  2013-05-15 14:20:09       Leaving sequence   \n",
       "14  2013-05-15 14:20:13  Player submitted name   \n",
       "15  2013-05-15 14:20:13       Leaving sequence   \n",
       "\n",
       "                     event_attribute  \n",
       "0                                NaN  \n",
       "1           loadXML, moving forward.  \n",
       "2                               Carl  \n",
       "3   InputNameScreen, moving forward.  \n",
       "4                               Carl  \n",
       "5       startScreen, moving forward.  \n",
       "6                               Carl  \n",
       "7            slide2, moving forward.  \n",
       "8                               Carl  \n",
       "9           slide2b, moving forward.  \n",
       "10                              Carl  \n",
       "11          slide2c, moving forward.  \n",
       "12                              Carl  \n",
       "13           slide3, moving forward.  \n",
       "14                              Carl  \n",
       "15           slide4, moving forward.  "
      ]
     },
     "execution_count": 4,
     "metadata": {},
     "output_type": "execute_result"
    }
   ],
   "source": [
    "pd.DataFrame(txt.get('data'))"
   ]
  },
  {
   "cell_type": "markdown",
   "metadata": {},
   "source": [
    "## XML format (this is not included in the book code snippet, but included here as an extra bonus)"
   ]
  },
  {
   "cell_type": "markdown",
   "metadata": {},
   "source": [
    "### Step 1. Load needed packages"
   ]
  },
  {
   "cell_type": "code",
   "execution_count": 5,
   "metadata": {},
   "outputs": [],
   "source": [
    "import xml.etree.ElementTree as et  # package for xml parsing"
   ]
  },
  {
   "cell_type": "markdown",
   "metadata": {},
   "source": [
    "### Step 2. Specify XML file name"
   ]
  },
  {
   "cell_type": "code",
   "execution_count": 6,
   "metadata": {},
   "outputs": [],
   "source": [
    "xml_file_name = 'structured_example_log.xml'  # note that this xml is structured to comply with ETS' VPA data model"
   ]
  },
  {
   "cell_type": "markdown",
   "metadata": {},
   "source": [
    "### Step 3. Parsing the xml tree"
   ]
  },
  {
   "cell_type": "code",
   "execution_count": 7,
   "metadata": {},
   "outputs": [],
   "source": [
    "tree = et.parse(xml_file_name)\n",
    "root = tree.getroot()"
   ]
  },
  {
   "cell_type": "code",
   "execution_count": 8,
   "metadata": {},
   "outputs": [
    {
     "data": {
      "text/plain": [
       "1"
      ]
     },
     "execution_count": 8,
     "metadata": {},
     "output_type": "execute_result"
    }
   ],
   "source": [
    "# check how many child \n",
    "len(root)"
   ]
  },
  {
   "cell_type": "code",
   "execution_count": 9,
   "metadata": {},
   "outputs": [
    {
     "name": "stdout",
     "output_type": "stream",
     "text": [
      "sessionID , 7369 , 0\n",
      "teamID , hao_jiangang , 0\n",
      "playerID , None , 4\n",
      "attemptID , 17 , 0\n",
      "sessionExtData , None , 5\n",
      "eventSequence , None , 45\n"
     ]
    }
   ],
   "source": [
    "# find out the child of the root and the number of grandchild\n",
    "for chd in root[0]:\n",
    "    print(chd.tag,',',chd.text, ',',len(chd))"
   ]
  },
  {
   "cell_type": "code",
   "execution_count": 10,
   "metadata": {},
   "outputs": [
    {
     "data": {
      "text/plain": [
       "<Element 'playerID' at 0x7fe1e5037ae0>"
      ]
     },
     "execution_count": 10,
     "metadata": {},
     "output_type": "execute_result"
    }
   ],
   "source": [
    "# check the playerID child \n",
    "root[0][2]"
   ]
  },
  {
   "cell_type": "code",
   "execution_count": 11,
   "metadata": {},
   "outputs": [
    {
     "name": "stdout",
     "output_type": "stream",
     "text": [
      "pair , None , 2\n",
      "pair , None , 2\n",
      "pair , None , 2\n",
      "pair , None , 2\n"
     ]
    }
   ],
   "source": [
    "# check the child of playerID\n",
    "for chd in root[0][2]:\n",
    "    print(chd.tag,',',chd.text, ',',len(chd))"
   ]
  },
  {
   "cell_type": "code",
   "execution_count": 12,
   "metadata": {},
   "outputs": [
    {
     "data": {
      "text/plain": [
       "<Element 'pair' at 0x7fe1e5037b30>"
      ]
     },
     "execution_count": 12,
     "metadata": {},
     "output_type": "execute_result"
    }
   ],
   "source": [
    "# check the child of the child of playerID\n",
    "root[0][2][0]"
   ]
  },
  {
   "cell_type": "code",
   "execution_count": 13,
   "metadata": {},
   "outputs": [
    {
     "data": {
      "text/plain": [
       "<Element 'eventSequence' at 0x7fe1e247c400>"
      ]
     },
     "execution_count": 13,
     "metadata": {},
     "output_type": "execute_result"
    }
   ],
   "source": [
    "# check the eventSequence child\n",
    "root[0][5]"
   ]
  },
  {
   "cell_type": "code",
   "execution_count": 14,
   "metadata": {},
   "outputs": [
    {
     "name": "stdout",
     "output_type": "stream",
     "text": [
      "event , None , 7\n",
      "event , None , 8\n",
      "event , None , 8\n",
      "event , None , 7\n",
      "event , None , 7\n",
      "event , None , 7\n",
      "event , None , 7\n",
      "event , None , 8\n",
      "event , None , 8\n",
      "event , None , 7\n",
      "event , None , 7\n",
      "event , None , 8\n",
      "event , None , 8\n",
      "event , None , 8\n",
      "event , None , 8\n",
      "event , None , 7\n",
      "event , None , 8\n",
      "event , None , 8\n",
      "event , None , 8\n",
      "event , None , 8\n",
      "event , None , 8\n",
      "event , None , 8\n",
      "event , None , 8\n",
      "event , None , 8\n",
      "event , None , 7\n",
      "event , None , 7\n",
      "event , None , 7\n",
      "event , None , 7\n",
      "event , None , 7\n",
      "event , None , 7\n",
      "event , None , 7\n",
      "event , None , 7\n",
      "event , None , 7\n",
      "event , None , 7\n",
      "event , None , 7\n",
      "event , None , 8\n",
      "event , None , 8\n",
      "event , None , 8\n",
      "event , None , 8\n",
      "event , None , 8\n",
      "event , None , 8\n",
      "event , None , 8\n",
      "event , None , 8\n",
      "event , None , 8\n",
      "event , None , 8\n"
     ]
    }
   ],
   "source": [
    "for chd in root[0][5]:\n",
    "    print(chd.tag,',',chd.text, ',',len(chd))"
   ]
  },
  {
   "cell_type": "code",
   "execution_count": 15,
   "metadata": {},
   "outputs": [
    {
     "data": {
      "text/plain": [
       "<Element 'event' at 0x7fe1e247c450>"
      ]
     },
     "execution_count": 15,
     "metadata": {},
     "output_type": "execute_result"
    }
   ],
   "source": [
    "# check the first event\n",
    "root[0][5][0]"
   ]
  },
  {
   "cell_type": "code",
   "execution_count": 16,
   "metadata": {},
   "outputs": [
    {
     "name": "stdout",
     "output_type": "stream",
     "text": [
      "eventName , chat , 0\n",
      "eventStartTime , 2019-11-06T14:18:31Z , 0\n",
      "eventEndTime , 2019-11-06T14:18:31Z , 0\n",
      "eventBy , jiangang , 0\n",
      "eventTo , others , 0\n",
      "eventResult , hi , 0\n",
      "eventLocation , slide1-step0 , 0\n"
     ]
    }
   ],
   "source": [
    "for chd in root[0][5][0]:\n",
    "    print(chd.tag,',',chd.text, ',',len(chd))"
   ]
  },
  {
   "cell_type": "markdown",
   "metadata": {},
   "source": [
    "#### The above codes show how you reach out to each leaf in the XML tree. You can put them together into a dataframe. "
   ]
  },
  {
   "cell_type": "markdown",
   "metadata": {},
   "source": [
    "# Bonus - Parsing HTML"
   ]
  },
  {
   "cell_type": "code",
   "execution_count": 3,
   "metadata": {},
   "outputs": [],
   "source": [
    "#!pip install beautifulsoup4\n",
    "from bs4 import BeautifulSoup"
   ]
  },
  {
   "cell_type": "code",
   "execution_count": 4,
   "metadata": {},
   "outputs": [],
   "source": [
    "with open(\"html_example.html\") as f:\n",
    "    soup = BeautifulSoup(f,'html.parser')"
   ]
  },
  {
   "cell_type": "code",
   "execution_count": 5,
   "metadata": {},
   "outputs": [
    {
     "name": "stdout",
     "output_type": "stream",
     "text": [
      "<html>\n",
      "<head>\n",
      "<title>The Dormouse's story</title>\n",
      "</head>\n",
      "<body>\n",
      "<p class=\"title\"> <b>The Dormouse's story</b> </p>\n",
      "<p class=\"story\">Once upon a time there were three little sisters; and their names were <a class=\"sister\" href=\"http://example.com/elsie\" id=\"link1\">Elsie</a>, <a class=\"sister\" href=\"http://example.com/lacie\" id=\"link2\">Lacie</a> and <a class=\"sister\" href=\"http://example.com/tillie\" id=\"link3\">Tillie</a>; and they lived at the bottom of a well.</p>\n",
      "</body>\n",
      "</html>\n"
     ]
    }
   ],
   "source": [
    "print(soup)"
   ]
  },
  {
   "cell_type": "code",
   "execution_count": 6,
   "metadata": {},
   "outputs": [
    {
     "data": {
      "text/plain": [
       "<title>The Dormouse's story</title>"
      ]
     },
     "execution_count": 6,
     "metadata": {},
     "output_type": "execute_result"
    }
   ],
   "source": [
    "#get the title\n",
    "soup.title"
   ]
  },
  {
   "cell_type": "code",
   "execution_count": 7,
   "metadata": {},
   "outputs": [
    {
     "data": {
      "text/plain": [
       "\"\\n\\nThe Dormouse's story\\n\\n\\n The Dormouse's story \\nOnce upon a time there were three little sisters; and their names were Elsie, Lacie and Tillie; and they lived at the bottom of a well.\\n\\n\""
      ]
     },
     "execution_count": 7,
     "metadata": {},
     "output_type": "execute_result"
    }
   ],
   "source": [
    "# get all text\n",
    "soup.get_text()"
   ]
  },
  {
   "cell_type": "code",
   "execution_count": 8,
   "metadata": {},
   "outputs": [
    {
     "data": {
      "text/plain": [
       "<head>\n",
       "<title>The Dormouse's story</title>\n",
       "</head>"
      ]
     },
     "execution_count": 8,
     "metadata": {},
     "output_type": "execute_result"
    }
   ],
   "source": [
    "# get the head\n",
    "soup.head"
   ]
  },
  {
   "cell_type": "code",
   "execution_count": 9,
   "metadata": {},
   "outputs": [
    {
     "data": {
      "text/plain": [
       "<body>\n",
       "<p class=\"title\"> <b>The Dormouse's story</b> </p>\n",
       "<p class=\"story\">Once upon a time there were three little sisters; and their names were <a class=\"sister\" href=\"http://example.com/elsie\" id=\"link1\">Elsie</a>, <a class=\"sister\" href=\"http://example.com/lacie\" id=\"link2\">Lacie</a> and <a class=\"sister\" href=\"http://example.com/tillie\" id=\"link3\">Tillie</a>; and they lived at the bottom of a well.</p>\n",
       "</body>"
      ]
     },
     "execution_count": 9,
     "metadata": {},
     "output_type": "execute_result"
    }
   ],
   "source": [
    "# get the the body\n",
    "soup.body"
   ]
  },
  {
   "cell_type": "code",
   "execution_count": 10,
   "metadata": {},
   "outputs": [
    {
     "data": {
      "text/plain": [
       "<a class=\"sister\" href=\"http://example.com/elsie\" id=\"link1\">Elsie</a>"
      ]
     },
     "execution_count": 10,
     "metadata": {},
     "output_type": "execute_result"
    }
   ],
   "source": [
    "#access one element\n",
    "soup.a"
   ]
  },
  {
   "cell_type": "code",
   "execution_count": 11,
   "metadata": {},
   "outputs": [
    {
     "data": {
      "text/plain": [
       "'a'"
      ]
     },
     "execution_count": 11,
     "metadata": {},
     "output_type": "execute_result"
    }
   ],
   "source": [
    "# name of the tag\n",
    "soup.a.name"
   ]
  },
  {
   "cell_type": "code",
   "execution_count": 12,
   "metadata": {},
   "outputs": [
    {
     "data": {
      "text/plain": [
       "'Elsie'"
      ]
     },
     "execution_count": 12,
     "metadata": {},
     "output_type": "execute_result"
    }
   ],
   "source": [
    "# content of the tag\n",
    "soup.a.text"
   ]
  },
  {
   "cell_type": "code",
   "execution_count": 13,
   "metadata": {},
   "outputs": [
    {
     "data": {
      "text/plain": [
       "{'class': ['sister'], 'href': 'http://example.com/elsie', 'id': 'link1'}"
      ]
     },
     "execution_count": 13,
     "metadata": {},
     "output_type": "execute_result"
    }
   ],
   "source": [
    "# attributes of the tag\n",
    "soup.a.attrs"
   ]
  },
  {
   "cell_type": "code",
   "execution_count": 14,
   "metadata": {},
   "outputs": [
    {
     "data": {
      "text/plain": [
       "'http://example.com/elsie'"
      ]
     },
     "execution_count": 14,
     "metadata": {},
     "output_type": "execute_result"
    }
   ],
   "source": [
    "# get the attribute of href\n",
    "soup.a.attrs['href']"
   ]
  },
  {
   "cell_type": "code",
   "execution_count": 15,
   "metadata": {},
   "outputs": [
    {
     "data": {
      "text/plain": [
       "[<a class=\"sister\" href=\"http://example.com/elsie\" id=\"link1\">Elsie</a>,\n",
       " <a class=\"sister\" href=\"http://example.com/lacie\" id=\"link2\">Lacie</a>,\n",
       " <a class=\"sister\" href=\"http://example.com/tillie\" id=\"link3\">Tillie</a>]"
      ]
     },
     "execution_count": 15,
     "metadata": {},
     "output_type": "execute_result"
    }
   ],
   "source": [
    "# find all a tags\n",
    "soup.find_all('a')"
   ]
  },
  {
   "cell_type": "code",
   "execution_count": 16,
   "metadata": {},
   "outputs": [
    {
     "data": {
      "text/plain": [
       "[<a class=\"sister\" href=\"http://example.com/lacie\" id=\"link2\">Lacie</a>]"
      ]
     },
     "execution_count": 16,
     "metadata": {},
     "output_type": "execute_result"
    }
   ],
   "source": [
    "# find all a tags with id attribute = link2\n",
    "soup.find_all('a',{\"id\":\"link2\"})"
   ]
  },
  {
   "cell_type": "code",
   "execution_count": 17,
   "metadata": {},
   "outputs": [
    {
     "data": {
      "text/plain": [
       "[<a class=\"sister\" href=\"http://example.com/lacie\" id=\"link2\">Lacie</a>]"
      ]
     },
     "execution_count": 17,
     "metadata": {},
     "output_type": "execute_result"
    }
   ],
   "source": [
    "soup.find_all('a',text='Lacie')"
   ]
  },
  {
   "cell_type": "code",
   "execution_count": null,
   "metadata": {},
   "outputs": [],
   "source": []
  }
 ],
 "metadata": {
  "kernelspec": {
   "display_name": "Python 3 (ipykernel)",
   "language": "python",
   "name": "python3"
  },
  "language_info": {
   "codemirror_mode": {
    "name": "ipython",
    "version": 3
   },
   "file_extension": ".py",
   "mimetype": "text/x-python",
   "name": "python",
   "nbconvert_exporter": "python",
   "pygments_lexer": "ipython3",
   "version": "3.9.7"
  }
 },
 "nbformat": 4,
 "nbformat_minor": 4
}
